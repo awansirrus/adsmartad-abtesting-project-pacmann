{
 "cells": [
  {
   "cell_type": "markdown",
   "id": "744114a1",
   "metadata": {},
   "source": [
    "# Experimental Design and A/B Testing Project"
   ]
  },
  {
   "cell_type": "markdown",
   "id": "1e990291",
   "metadata": {},
   "source": [
    "# Advertisement on questionaire - A/B Testing\n",
    "\n",
    "\n",
    "\n",
    "\n",
    "    "
   ]
  },
  {
   "cell_type": "markdown",
   "id": "a747931e",
   "metadata": {},
   "source": [
    "## 1. Intoduction and Background\n",
    "\n",
    "Sebuah perusahaan berinisiatif mengganti iklan yang selama ini digunakan dengan iklan yang baru. Iklan ini biasa digunakan untuk menjangkau sebanyak mungkin user mengisi kuesioner. Perusahaan menginginkan sebuah iklan yang efektif yang dapat menjangkau lebih banyak lagi user untuk mengisi kuesioner. Perusahaan kemudian dihadapkan dua pilihan, yaitu iklan statis atau iklan interaktif dengan merek SmartAd. Untuk mengetahui apakah iklan interaktif memberikan lebih banyak tanggappan terhadap kuesioner mereka, maka perusahaan akan melakukan A/B testing. Pengambilan data dilakukan dengan mengukur beberapa parameter yaitu:\n",
    "\n",
    "auction_id: ID unik pengguna online yang telah disajikan BIO-nya. Pengguna mungkin melihat kuesioner tetapi memilih untuk tidak merespons. Dalam hal ini kolom \"yes\" dan \"no\" sama dengan nol.\n",
    "\n",
    "eksperimen: pengguna termasuk dalam grup mana - \"control\" atau \"exposed\".\n",
    "\n",
    "control: pengguna yang telah melihat iklan tiruan\n",
    "\n",
    "exposed: pengguna yang telah diperlihatkan materi iklan, iklan interaktif online, dengan merek SmartAd.\n",
    "\n",
    "tanggal: tanggal dalam format YYYY-MM-DD\n",
    "\n",
    "jam: jam dalam sehari dalam format HH.\n",
    "\n",
    "device_make: nama jenis perangkat yang dimiliki pengguna, mis. Samsung\n",
    "\n",
    "platform_os: id OS yang dimiliki pengguna.\n",
    "\n",
    "browser: nama browser yang digunakan pengguna untuk melihat kuesioner.\n",
    "\n",
    "yes: bernilai 1 jika pengguna memilih tombol “yes” untuk kuesioner BIO.\n",
    "\n",
    "no: bernilai 0 jika pengguna memilih tombol “no” untuk kuesioner BIO."
   ]
  },
  {
   "attachments": {
    "image-2.png": {
     "image/png": "[encoded data removed]"
    }
   },
   "cell_type": "markdown",
   "id": "67882cb9",
   "metadata": {},
   "source": [
    "## 2. Setting Up Problem\n",
    "### a. Experiment Goal\n",
    "Tujuan dari ekspermen ini adalah untuk mngetahui apakah iklan interaktif SmartAd mempengaruhi perilaku user dalam merespon kuesioner.\n",
    "### b. Choosing Matrix\n",
    "Driver matrix yang digunakan adalah conversion rate. Semakin banyak orang yang mengisi kuesioner setelah melihat iklan tersebut maka semakin sukses iklannya. Sedangkan Guardrail matrix yang digunakn adalah loading time dan error per page.\n",
    "### c. Define Variant\n",
    "Control = static ad, \n",
    "Treatment = interactive ad\n",
    "### d. Define Hypothesis\n",
    "𝐻0: CR_interactive ≤ CR_static  \n",
    "\n",
    "𝐻1: CR_interactive > CR_static\n",
    "### e. Designing Experiments\n",
    "#### Randomization unit\n",
    "Randomization unit adalah “siapa” atau “apa” yang dialokasikan secara acak pada masing-masing kelompok. Dalam konteks ini, randomization unit nya adalah user.\n",
    "#### Target Randomization Unit\n",
    "Target randomization unit dalam eksperimen ini adalah semua user yang terekspos dengan ads / iklan.\n",
    "#### Sample Size\n",
    "Kita dapat menggunakan formula berikut ini untuk menghitung jumlah sampel minimum.\n",
    "![image-2.png](attachment:image-2.png)\n",
    "\n",
    "𝑛: sample size di tiap kelompok\n",
    "\n",
    "σ: standar deviasi dari outcome variable\n",
    "\n",
    "δ: peningkatan outcome variable yang diinginkan\n",
    "\n",
    "𝑧1−α/2: tingkat statistical significance yang diinginkan\n",
    "\n",
    "𝑧1−β: tingkat power yang diinginkan\n",
    "\n",
    "#### Penentuan Asumsi:\n",
    "##### standar deviasi (σ)\n",
    "Standar deviasi diasumsikan sebesar 4% (dilihat dari data historis)\n",
    "##### Significant level (α)\n",
    "Significant value yang umum digunakan untuk penelitian non medis (penelitian yang bukan menyangkut nyawa/ laboratorium) maka diasumsikan sebesar 5%.\n",
    "##### Difference between control and treatment (δ)\n",
    "Berdasarkan keputusan manajemen akan lebih profitable jika effect size meningkat sebesar 1%.\n",
    "##### Power level (1 - β)\n",
    "Power level akan mengikuti yang dianjurkan oleh berbagai literatur yaitu 80%."
   ]
  },
  {
   "cell_type": "code",
   "execution_count": 1,
   "id": "fabd0f94",
   "metadata": {},
   "outputs": [
    {
     "name": "stdout",
     "output_type": "stream",
     "text": [
      "Jumlah minimum sample yang dibutuhkan per kelompok varian adalah 251 sample\n"
     ]
    }
   ],
   "source": [
    "from scipy import stats\n",
    "# Given\n",
    "\n",
    "delta = 0.01        # Peningkatan conversion rate yang diinginkan\n",
    "alpha = 0.05        # significance level\n",
    "power = 0.8         # power\n",
    "std_dev = 0.04      # variance of population (assumed / approximated)\n",
    "\n",
    "# menghitung beta\n",
    "beta = 1 - power\n",
    "\n",
    "# menghitung nilai z \n",
    "z_alpha = stats.norm.ppf(1 - alpha/2)\n",
    "z_beta = stats.norm.ppf(1 - beta)\n",
    "\n",
    "# menghitung jumlah sample size\n",
    "n = 2 * (std_dev**2) * ((z_alpha+z_beta)**2) / (delta**2)\n",
    "\n",
    "print(f'Jumlah minimum sample yang dibutuhkan per kelompok varian adalah {n:.0f} sample')"
   ]
  },
  {
   "cell_type": "markdown",
   "id": "f3f42909",
   "metadata": {},
   "source": [
    "#### Time Span of Experiment\n",
    "Eksperimen dilakukan selama tujuh hari, kemudian kita ambil data terhadap orang-orang yang terekspos iklan statis maupun iklan interaktif secara random sesuai dengan kebutuhan sampel. Kemudian dilakukan pengukuran dengan melihat Convert Rate dari user target tersebut."
   ]
  },
  {
   "cell_type": "markdown",
   "id": "c965eb88",
   "metadata": {},
   "source": [
    "### f. Running Experiment and Obtaining Data\n",
    "Karena tidak dapat mengambil data secara langsung, maka data berikut diasumsikan menjadi data eksperimen."
   ]
  },
  {
   "cell_type": "code",
   "execution_count": 36,
   "id": "4c89bee6",
   "metadata": {},
   "outputs": [],
   "source": [
    "# load packages\n",
    "import matplotlib.pyplot as plt\n",
    "import numpy as np\n",
    "import pandas as pd\n",
    "import scipy\n",
    "import statsmodels.api as sm\n",
    "from tabulate import tabulate\n",
    "from scipy.stats import chisquare\n",
    "from statsmodels.stats.proportion import proportions_ztest\n",
    "from statsmodels.stats.proportion import confint_proportions_2indep\n",
    "\n",
    "# ignore warnings\n",
    "import warnings\n",
    "warnings.filterwarnings('ignore')"
   ]
  },
  {
   "cell_type": "code",
   "execution_count": 3,
   "id": "9d3d3ec0",
   "metadata": {},
   "outputs": [
    {
     "data": {
      "text/html": [
       "<div>\n",
       "<style scoped>\n",
       "    .dataframe tbody tr th:only-of-type {\n",
       "        vertical-align: middle;\n",
       "    }\n",
       "\n",
       "    .dataframe tbody tr th {\n",
       "        vertical-align: top;\n",
       "    }\n",
       "\n",
       "    .dataframe thead th {\n",
       "        text-align: right;\n",
       "    }\n",
       "</style>\n",
       "<table border=\"1\" class=\"dataframe\">\n",
       "  <thead>\n",
       "    <tr style=\"text-align: right;\">\n",
       "      <th></th>\n",
       "      <th>auction_id</th>\n",
       "      <th>experiment</th>\n",
       "      <th>date</th>\n",
       "      <th>hour</th>\n",
       "      <th>device_make</th>\n",
       "      <th>platform_os</th>\n",
       "      <th>browser</th>\n",
       "      <th>yes</th>\n",
       "      <th>no</th>\n",
       "    </tr>\n",
       "  </thead>\n",
       "  <tbody>\n",
       "    <tr>\n",
       "      <th>0</th>\n",
       "      <td>0008ef63-77a7-448b-bd1e-075f42c55e39</td>\n",
       "      <td>exposed</td>\n",
       "      <td>2020-07-10</td>\n",
       "      <td>8</td>\n",
       "      <td>Generic Smartphone</td>\n",
       "      <td>6</td>\n",
       "      <td>Chrome Mobile</td>\n",
       "      <td>0</td>\n",
       "      <td>0</td>\n",
       "    </tr>\n",
       "    <tr>\n",
       "      <th>1</th>\n",
       "      <td>000eabc5-17ce-4137-8efe-44734d914446</td>\n",
       "      <td>exposed</td>\n",
       "      <td>2020-07-07</td>\n",
       "      <td>10</td>\n",
       "      <td>Generic Smartphone</td>\n",
       "      <td>6</td>\n",
       "      <td>Chrome Mobile</td>\n",
       "      <td>0</td>\n",
       "      <td>0</td>\n",
       "    </tr>\n",
       "    <tr>\n",
       "      <th>2</th>\n",
       "      <td>0016d14a-ae18-4a02-a204-6ba53b52f2ed</td>\n",
       "      <td>exposed</td>\n",
       "      <td>2020-07-05</td>\n",
       "      <td>2</td>\n",
       "      <td>E5823</td>\n",
       "      <td>6</td>\n",
       "      <td>Chrome Mobile WebView</td>\n",
       "      <td>0</td>\n",
       "      <td>1</td>\n",
       "    </tr>\n",
       "    <tr>\n",
       "      <th>3</th>\n",
       "      <td>00187412-2932-4542-a8ef-3633901c98d9</td>\n",
       "      <td>control</td>\n",
       "      <td>2020-07-03</td>\n",
       "      <td>15</td>\n",
       "      <td>Samsung SM-A705FN</td>\n",
       "      <td>6</td>\n",
       "      <td>Facebook</td>\n",
       "      <td>0</td>\n",
       "      <td>0</td>\n",
       "    </tr>\n",
       "    <tr>\n",
       "      <th>4</th>\n",
       "      <td>001a7785-d3fe-4e11-a344-c8735acacc2c</td>\n",
       "      <td>control</td>\n",
       "      <td>2020-07-03</td>\n",
       "      <td>15</td>\n",
       "      <td>Generic Smartphone</td>\n",
       "      <td>6</td>\n",
       "      <td>Chrome Mobile</td>\n",
       "      <td>0</td>\n",
       "      <td>0</td>\n",
       "    </tr>\n",
       "  </tbody>\n",
       "</table>\n",
       "</div>"
      ],
      "text/plain": [
       "                             auction_id experiment        date  hour  \\\n",
       "0  0008ef63-77a7-448b-bd1e-075f42c55e39    exposed  2020-07-10     8   \n",
       "1  000eabc5-17ce-4137-8efe-44734d914446    exposed  2020-07-07    10   \n",
       "2  0016d14a-ae18-4a02-a204-6ba53b52f2ed    exposed  2020-07-05     2   \n",
       "3  00187412-2932-4542-a8ef-3633901c98d9    control  2020-07-03    15   \n",
       "4  001a7785-d3fe-4e11-a344-c8735acacc2c    control  2020-07-03    15   \n",
       "\n",
       "          device_make  platform_os                browser  yes  no  \n",
       "0  Generic Smartphone            6          Chrome Mobile    0   0  \n",
       "1  Generic Smartphone            6          Chrome Mobile    0   0  \n",
       "2               E5823            6  Chrome Mobile WebView    0   1  \n",
       "3   Samsung SM-A705FN            6               Facebook    0   0  \n",
       "4  Generic Smartphone            6          Chrome Mobile    0   0  "
      ]
     },
     "execution_count": 3,
     "metadata": {},
     "output_type": "execute_result"
    }
   ],
   "source": [
    "# import dataset\n",
    "data = pd.read_csv(\"AdSmartABdata.csv\")\n",
    "data.head()"
   ]
  },
  {
   "cell_type": "code",
   "execution_count": 4,
   "id": "f16808a6",
   "metadata": {},
   "outputs": [
    {
     "name": "stdout",
     "output_type": "stream",
     "text": [
      "<class 'pandas.core.frame.DataFrame'>\n",
      "RangeIndex: 8077 entries, 0 to 8076\n",
      "Data columns (total 9 columns):\n",
      " #   Column       Non-Null Count  Dtype \n",
      "---  ------       --------------  ----- \n",
      " 0   auction_id   8077 non-null   object\n",
      " 1   experiment   8077 non-null   object\n",
      " 2   date         8077 non-null   object\n",
      " 3   hour         8077 non-null   int64 \n",
      " 4   device_make  8077 non-null   object\n",
      " 5   platform_os  8077 non-null   int64 \n",
      " 6   browser      8077 non-null   object\n",
      " 7   yes          8077 non-null   int64 \n",
      " 8   no           8077 non-null   int64 \n",
      "dtypes: int64(4), object(5)\n",
      "memory usage: 568.0+ KB\n"
     ]
    }
   ],
   "source": [
    "# overview data\n",
    "data.info()"
   ]
  },
  {
   "cell_type": "code",
   "execution_count": 5,
   "id": "6851c139",
   "metadata": {},
   "outputs": [
    {
     "data": {
      "text/plain": [
       "(8077, 9)"
      ]
     },
     "execution_count": 5,
     "metadata": {},
     "output_type": "execute_result"
    }
   ],
   "source": [
    "# dimensi data\n",
    "data.shape"
   ]
  },
  {
   "cell_type": "code",
   "execution_count": 6,
   "id": "56d51bc4",
   "metadata": {},
   "outputs": [
    {
     "data": {
      "text/plain": [
       "array(['2020-07-10', '2020-07-07', '2020-07-05', '2020-07-03',\n",
       "       '2020-07-09', '2020-07-04', '2020-07-06', '2020-07-08'],\n",
       "      dtype=object)"
      ]
     },
     "execution_count": 6,
     "metadata": {},
     "output_type": "execute_result"
    }
   ],
   "source": [
    "# Rentang waktu eksperimen\n",
    "data['date'].unique()"
   ]
  },
  {
   "cell_type": "markdown",
   "id": "ab27803c",
   "metadata": {},
   "source": [
    "#### Mengecek data yang tidak merespon kuesioner\n",
    "User dapat memilih untuk tidak menjawab 'Yes' atau 'No' ketika diperlihatkan kuesioner melalui advertisement. Karena eksperimen ini ingin melihat conversion rate, kita perlu menghapus observasi non-respon tersebut."
   ]
  },
  {
   "cell_type": "code",
   "execution_count": 7,
   "id": "07d7f259",
   "metadata": {},
   "outputs": [
    {
     "data": {
      "text/html": [
       "<div>\n",
       "<style scoped>\n",
       "    .dataframe tbody tr th:only-of-type {\n",
       "        vertical-align: middle;\n",
       "    }\n",
       "\n",
       "    .dataframe tbody tr th {\n",
       "        vertical-align: top;\n",
       "    }\n",
       "\n",
       "    .dataframe thead th {\n",
       "        text-align: right;\n",
       "    }\n",
       "</style>\n",
       "<table border=\"1\" class=\"dataframe\">\n",
       "  <thead>\n",
       "    <tr style=\"text-align: right;\">\n",
       "      <th></th>\n",
       "      <th>auction_id</th>\n",
       "      <th>experiment</th>\n",
       "      <th>date</th>\n",
       "      <th>hour</th>\n",
       "      <th>device_make</th>\n",
       "      <th>platform_os</th>\n",
       "      <th>browser</th>\n",
       "      <th>yes</th>\n",
       "      <th>no</th>\n",
       "    </tr>\n",
       "  </thead>\n",
       "  <tbody>\n",
       "    <tr>\n",
       "      <th>0</th>\n",
       "      <td>0008ef63-77a7-448b-bd1e-075f42c55e39</td>\n",
       "      <td>exposed</td>\n",
       "      <td>2020-07-10</td>\n",
       "      <td>8</td>\n",
       "      <td>Generic Smartphone</td>\n",
       "      <td>6</td>\n",
       "      <td>Chrome Mobile</td>\n",
       "      <td>0</td>\n",
       "      <td>0</td>\n",
       "    </tr>\n",
       "    <tr>\n",
       "      <th>1</th>\n",
       "      <td>000eabc5-17ce-4137-8efe-44734d914446</td>\n",
       "      <td>exposed</td>\n",
       "      <td>2020-07-07</td>\n",
       "      <td>10</td>\n",
       "      <td>Generic Smartphone</td>\n",
       "      <td>6</td>\n",
       "      <td>Chrome Mobile</td>\n",
       "      <td>0</td>\n",
       "      <td>0</td>\n",
       "    </tr>\n",
       "    <tr>\n",
       "      <th>3</th>\n",
       "      <td>00187412-2932-4542-a8ef-3633901c98d9</td>\n",
       "      <td>control</td>\n",
       "      <td>2020-07-03</td>\n",
       "      <td>15</td>\n",
       "      <td>Samsung SM-A705FN</td>\n",
       "      <td>6</td>\n",
       "      <td>Facebook</td>\n",
       "      <td>0</td>\n",
       "      <td>0</td>\n",
       "    </tr>\n",
       "    <tr>\n",
       "      <th>4</th>\n",
       "      <td>001a7785-d3fe-4e11-a344-c8735acacc2c</td>\n",
       "      <td>control</td>\n",
       "      <td>2020-07-03</td>\n",
       "      <td>15</td>\n",
       "      <td>Generic Smartphone</td>\n",
       "      <td>6</td>\n",
       "      <td>Chrome Mobile</td>\n",
       "      <td>0</td>\n",
       "      <td>0</td>\n",
       "    </tr>\n",
       "    <tr>\n",
       "      <th>5</th>\n",
       "      <td>0027ce48-d3c6-4935-bb12-dfb5d5627857</td>\n",
       "      <td>control</td>\n",
       "      <td>2020-07-03</td>\n",
       "      <td>15</td>\n",
       "      <td>Samsung SM-G960F</td>\n",
       "      <td>6</td>\n",
       "      <td>Facebook</td>\n",
       "      <td>0</td>\n",
       "      <td>0</td>\n",
       "    </tr>\n",
       "    <tr>\n",
       "      <th>...</th>\n",
       "      <td>...</td>\n",
       "      <td>...</td>\n",
       "      <td>...</td>\n",
       "      <td>...</td>\n",
       "      <td>...</td>\n",
       "      <td>...</td>\n",
       "      <td>...</td>\n",
       "      <td>...</td>\n",
       "      <td>...</td>\n",
       "    </tr>\n",
       "    <tr>\n",
       "      <th>8072</th>\n",
       "      <td>ffea24ec-cec1-43fb-b1d1-8f93828c2be2</td>\n",
       "      <td>exposed</td>\n",
       "      <td>2020-07-05</td>\n",
       "      <td>7</td>\n",
       "      <td>Generic Smartphone</td>\n",
       "      <td>6</td>\n",
       "      <td>Chrome Mobile</td>\n",
       "      <td>0</td>\n",
       "      <td>0</td>\n",
       "    </tr>\n",
       "    <tr>\n",
       "      <th>8073</th>\n",
       "      <td>ffea3210-2c3e-426f-a77d-0aa72e73b20f</td>\n",
       "      <td>control</td>\n",
       "      <td>2020-07-03</td>\n",
       "      <td>15</td>\n",
       "      <td>Generic Smartphone</td>\n",
       "      <td>6</td>\n",
       "      <td>Chrome Mobile</td>\n",
       "      <td>0</td>\n",
       "      <td>0</td>\n",
       "    </tr>\n",
       "    <tr>\n",
       "      <th>8074</th>\n",
       "      <td>ffeaa0f1-1d72-4ba9-afb4-314b3b00a7c7</td>\n",
       "      <td>control</td>\n",
       "      <td>2020-07-04</td>\n",
       "      <td>9</td>\n",
       "      <td>Generic Smartphone</td>\n",
       "      <td>6</td>\n",
       "      <td>Chrome Mobile</td>\n",
       "      <td>0</td>\n",
       "      <td>0</td>\n",
       "    </tr>\n",
       "    <tr>\n",
       "      <th>8075</th>\n",
       "      <td>ffeeed62-3f7c-4a6e-8ba7-95d303d40969</td>\n",
       "      <td>exposed</td>\n",
       "      <td>2020-07-05</td>\n",
       "      <td>15</td>\n",
       "      <td>Samsung SM-A515F</td>\n",
       "      <td>6</td>\n",
       "      <td>Samsung Internet</td>\n",
       "      <td>0</td>\n",
       "      <td>0</td>\n",
       "    </tr>\n",
       "    <tr>\n",
       "      <th>8076</th>\n",
       "      <td>fffbb9ff-568a-41a5-a0c3-6866592f80d8</td>\n",
       "      <td>control</td>\n",
       "      <td>2020-07-10</td>\n",
       "      <td>14</td>\n",
       "      <td>Samsung SM-G960F</td>\n",
       "      <td>6</td>\n",
       "      <td>Facebook</td>\n",
       "      <td>0</td>\n",
       "      <td>0</td>\n",
       "    </tr>\n",
       "  </tbody>\n",
       "</table>\n",
       "<p>6834 rows × 9 columns</p>\n",
       "</div>"
      ],
      "text/plain": [
       "                                auction_id experiment        date  hour  \\\n",
       "0     0008ef63-77a7-448b-bd1e-075f42c55e39    exposed  2020-07-10     8   \n",
       "1     000eabc5-17ce-4137-8efe-44734d914446    exposed  2020-07-07    10   \n",
       "3     00187412-2932-4542-a8ef-3633901c98d9    control  2020-07-03    15   \n",
       "4     001a7785-d3fe-4e11-a344-c8735acacc2c    control  2020-07-03    15   \n",
       "5     0027ce48-d3c6-4935-bb12-dfb5d5627857    control  2020-07-03    15   \n",
       "...                                    ...        ...         ...   ...   \n",
       "8072  ffea24ec-cec1-43fb-b1d1-8f93828c2be2    exposed  2020-07-05     7   \n",
       "8073  ffea3210-2c3e-426f-a77d-0aa72e73b20f    control  2020-07-03    15   \n",
       "8074  ffeaa0f1-1d72-4ba9-afb4-314b3b00a7c7    control  2020-07-04     9   \n",
       "8075  ffeeed62-3f7c-4a6e-8ba7-95d303d40969    exposed  2020-07-05    15   \n",
       "8076  fffbb9ff-568a-41a5-a0c3-6866592f80d8    control  2020-07-10    14   \n",
       "\n",
       "             device_make  platform_os           browser  yes  no  \n",
       "0     Generic Smartphone            6     Chrome Mobile    0   0  \n",
       "1     Generic Smartphone            6     Chrome Mobile    0   0  \n",
       "3      Samsung SM-A705FN            6          Facebook    0   0  \n",
       "4     Generic Smartphone            6     Chrome Mobile    0   0  \n",
       "5       Samsung SM-G960F            6          Facebook    0   0  \n",
       "...                  ...          ...               ...  ...  ..  \n",
       "8072  Generic Smartphone            6     Chrome Mobile    0   0  \n",
       "8073  Generic Smartphone            6     Chrome Mobile    0   0  \n",
       "8074  Generic Smartphone            6     Chrome Mobile    0   0  \n",
       "8075    Samsung SM-A515F            6  Samsung Internet    0   0  \n",
       "8076    Samsung SM-G960F            6          Facebook    0   0  \n",
       "\n",
       "[6834 rows x 9 columns]"
      ]
     },
     "execution_count": 7,
     "metadata": {},
     "output_type": "execute_result"
    }
   ],
   "source": [
    "# cek data non-response\n",
    "data_noresp = data[(data['yes'] == 0) & (data['no'] == 0)]\n",
    "data_noresp\n",
    "     "
   ]
  },
  {
   "cell_type": "code",
   "execution_count": 8,
   "id": "41ff0193",
   "metadata": {},
   "outputs": [
    {
     "data": {
      "text/html": [
       "<div>\n",
       "<style scoped>\n",
       "    .dataframe tbody tr th:only-of-type {\n",
       "        vertical-align: middle;\n",
       "    }\n",
       "\n",
       "    .dataframe tbody tr th {\n",
       "        vertical-align: top;\n",
       "    }\n",
       "\n",
       "    .dataframe thead th {\n",
       "        text-align: right;\n",
       "    }\n",
       "</style>\n",
       "<table border=\"1\" class=\"dataframe\">\n",
       "  <thead>\n",
       "    <tr style=\"text-align: right;\">\n",
       "      <th></th>\n",
       "      <th>auction_id</th>\n",
       "      <th>experiment</th>\n",
       "      <th>date</th>\n",
       "      <th>hour</th>\n",
       "      <th>device_make</th>\n",
       "      <th>platform_os</th>\n",
       "      <th>browser</th>\n",
       "      <th>yes</th>\n",
       "      <th>no</th>\n",
       "    </tr>\n",
       "  </thead>\n",
       "  <tbody>\n",
       "    <tr>\n",
       "      <th>2</th>\n",
       "      <td>0016d14a-ae18-4a02-a204-6ba53b52f2ed</td>\n",
       "      <td>exposed</td>\n",
       "      <td>2020-07-05</td>\n",
       "      <td>2</td>\n",
       "      <td>E5823</td>\n",
       "      <td>6</td>\n",
       "      <td>Chrome Mobile WebView</td>\n",
       "      <td>0</td>\n",
       "      <td>1</td>\n",
       "    </tr>\n",
       "    <tr>\n",
       "      <th>16</th>\n",
       "      <td>008aafdf-deef-4482-8fec-d98e3da054da</td>\n",
       "      <td>exposed</td>\n",
       "      <td>2020-07-04</td>\n",
       "      <td>16</td>\n",
       "      <td>Generic Smartphone</td>\n",
       "      <td>6</td>\n",
       "      <td>Chrome Mobile</td>\n",
       "      <td>1</td>\n",
       "      <td>0</td>\n",
       "    </tr>\n",
       "    <tr>\n",
       "      <th>20</th>\n",
       "      <td>00a1384a-5118-4d1b-925b-6cdada50318d</td>\n",
       "      <td>exposed</td>\n",
       "      <td>2020-07-06</td>\n",
       "      <td>8</td>\n",
       "      <td>Generic Smartphone</td>\n",
       "      <td>6</td>\n",
       "      <td>Chrome Mobile</td>\n",
       "      <td>0</td>\n",
       "      <td>1</td>\n",
       "    </tr>\n",
       "    <tr>\n",
       "      <th>23</th>\n",
       "      <td>00b6fadb-10bd-49e3-a778-290da82f7a8d</td>\n",
       "      <td>control</td>\n",
       "      <td>2020-07-08</td>\n",
       "      <td>4</td>\n",
       "      <td>Samsung SM-A202F</td>\n",
       "      <td>6</td>\n",
       "      <td>Facebook</td>\n",
       "      <td>1</td>\n",
       "      <td>0</td>\n",
       "    </tr>\n",
       "    <tr>\n",
       "      <th>27</th>\n",
       "      <td>00ebf4a8-060f-4b99-93ac-c62724399483</td>\n",
       "      <td>control</td>\n",
       "      <td>2020-07-03</td>\n",
       "      <td>15</td>\n",
       "      <td>Generic Smartphone</td>\n",
       "      <td>6</td>\n",
       "      <td>Chrome Mobile</td>\n",
       "      <td>0</td>\n",
       "      <td>1</td>\n",
       "    </tr>\n",
       "  </tbody>\n",
       "</table>\n",
       "</div>"
      ],
      "text/plain": [
       "                              auction_id experiment        date  hour  \\\n",
       "2   0016d14a-ae18-4a02-a204-6ba53b52f2ed    exposed  2020-07-05     2   \n",
       "16  008aafdf-deef-4482-8fec-d98e3da054da    exposed  2020-07-04    16   \n",
       "20  00a1384a-5118-4d1b-925b-6cdada50318d    exposed  2020-07-06     8   \n",
       "23  00b6fadb-10bd-49e3-a778-290da82f7a8d    control  2020-07-08     4   \n",
       "27  00ebf4a8-060f-4b99-93ac-c62724399483    control  2020-07-03    15   \n",
       "\n",
       "           device_make  platform_os                browser  yes  no  \n",
       "2                E5823            6  Chrome Mobile WebView    0   1  \n",
       "16  Generic Smartphone            6          Chrome Mobile    1   0  \n",
       "20  Generic Smartphone            6          Chrome Mobile    0   1  \n",
       "23    Samsung SM-A202F            6               Facebook    1   0  \n",
       "27  Generic Smartphone            6          Chrome Mobile    0   1  "
      ]
     },
     "execution_count": 8,
     "metadata": {},
     "output_type": "execute_result"
    }
   ],
   "source": [
    "# hilangkan data non-response \n",
    "new_data = data.drop(data_noresp.index)\n",
    "new_data.head()"
   ]
  },
  {
   "cell_type": "code",
   "execution_count": 9,
   "id": "ed3ce5ed",
   "metadata": {},
   "outputs": [
    {
     "data": {
      "text/plain": [
       "(1243, 9)"
      ]
     },
     "execution_count": 9,
     "metadata": {},
     "output_type": "execute_result"
    }
   ],
   "source": [
    "# dimensi data baru\n",
    "new_data.shape"
   ]
  },
  {
   "cell_type": "code",
   "execution_count": 10,
   "id": "6623ab95",
   "metadata": {},
   "outputs": [
    {
     "data": {
      "text/plain": [
       "exposed    657\n",
       "control    586\n",
       "Name: experiment, dtype: int64"
      ]
     },
     "execution_count": 10,
     "metadata": {},
     "output_type": "execute_result"
    }
   ],
   "source": [
    "# melihat jumlah exposed dan control terbaru\n",
    "new_data['experiment'].value_counts()"
   ]
  },
  {
   "cell_type": "markdown",
   "id": "eaa0b217",
   "metadata": {},
   "source": [
    "#### Mengambil sample"
   ]
  },
  {
   "cell_type": "code",
   "execution_count": 11,
   "id": "22285bac",
   "metadata": {},
   "outputs": [
    {
     "data": {
      "text/html": [
       "<div>\n",
       "<style scoped>\n",
       "    .dataframe tbody tr th:only-of-type {\n",
       "        vertical-align: middle;\n",
       "    }\n",
       "\n",
       "    .dataframe tbody tr th {\n",
       "        vertical-align: top;\n",
       "    }\n",
       "\n",
       "    .dataframe thead th {\n",
       "        text-align: right;\n",
       "    }\n",
       "</style>\n",
       "<table border=\"1\" class=\"dataframe\">\n",
       "  <thead>\n",
       "    <tr style=\"text-align: right;\">\n",
       "      <th></th>\n",
       "      <th>auction_id</th>\n",
       "      <th>experiment</th>\n",
       "      <th>date</th>\n",
       "      <th>hour</th>\n",
       "      <th>device_make</th>\n",
       "      <th>platform_os</th>\n",
       "      <th>browser</th>\n",
       "      <th>yes</th>\n",
       "      <th>no</th>\n",
       "    </tr>\n",
       "  </thead>\n",
       "  <tbody>\n",
       "    <tr>\n",
       "      <th>7166</th>\n",
       "      <td>e3d9dd45-d1b7-4502-ab4a-d7f9f3a1c272</td>\n",
       "      <td>control</td>\n",
       "      <td>2020-07-08</td>\n",
       "      <td>19</td>\n",
       "      <td>Samsung SM-G960F</td>\n",
       "      <td>6</td>\n",
       "      <td>Chrome Mobile WebView</td>\n",
       "      <td>0</td>\n",
       "      <td>1</td>\n",
       "    </tr>\n",
       "    <tr>\n",
       "      <th>3374</th>\n",
       "      <td>6d0b7da0-7798-4b70-88c2-f94e5ab65cb6</td>\n",
       "      <td>control</td>\n",
       "      <td>2020-07-10</td>\n",
       "      <td>4</td>\n",
       "      <td>Generic Smartphone</td>\n",
       "      <td>6</td>\n",
       "      <td>Chrome Mobile</td>\n",
       "      <td>0</td>\n",
       "      <td>1</td>\n",
       "    </tr>\n",
       "    <tr>\n",
       "      <th>362</th>\n",
       "      <td>0b0344c4-b114-4705-ad68-6662f0d3bedc</td>\n",
       "      <td>control</td>\n",
       "      <td>2020-07-03</td>\n",
       "      <td>15</td>\n",
       "      <td>LG-$2</td>\n",
       "      <td>6</td>\n",
       "      <td>Chrome Mobile</td>\n",
       "      <td>1</td>\n",
       "      <td>0</td>\n",
       "    </tr>\n",
       "    <tr>\n",
       "      <th>6413</th>\n",
       "      <td>cb7d4819-501d-471c-ad2b-f4f945eb411e</td>\n",
       "      <td>control</td>\n",
       "      <td>2020-07-09</td>\n",
       "      <td>19</td>\n",
       "      <td>Samsung SM-G960F</td>\n",
       "      <td>6</td>\n",
       "      <td>Samsung Internet</td>\n",
       "      <td>1</td>\n",
       "      <td>0</td>\n",
       "    </tr>\n",
       "    <tr>\n",
       "      <th>3574</th>\n",
       "      <td>735d2323-b1f5-4fb8-9893-96a00e3a4e0f</td>\n",
       "      <td>control</td>\n",
       "      <td>2020-07-05</td>\n",
       "      <td>4</td>\n",
       "      <td>Samsung SM-G975F</td>\n",
       "      <td>6</td>\n",
       "      <td>Chrome Mobile WebView</td>\n",
       "      <td>1</td>\n",
       "      <td>0</td>\n",
       "    </tr>\n",
       "    <tr>\n",
       "      <th>...</th>\n",
       "      <td>...</td>\n",
       "      <td>...</td>\n",
       "      <td>...</td>\n",
       "      <td>...</td>\n",
       "      <td>...</td>\n",
       "      <td>...</td>\n",
       "      <td>...</td>\n",
       "      <td>...</td>\n",
       "      <td>...</td>\n",
       "    </tr>\n",
       "    <tr>\n",
       "      <th>7808</th>\n",
       "      <td>f79d0a9c-3d11-4145-aa4d-74bfb4dbc399</td>\n",
       "      <td>control</td>\n",
       "      <td>2020-07-06</td>\n",
       "      <td>3</td>\n",
       "      <td>Samsung SM-A105FN</td>\n",
       "      <td>6</td>\n",
       "      <td>Samsung Internet</td>\n",
       "      <td>1</td>\n",
       "      <td>0</td>\n",
       "    </tr>\n",
       "    <tr>\n",
       "      <th>5869</th>\n",
       "      <td>b9bb4710-4bde-43a7-ac9b-951f7a8d6e95</td>\n",
       "      <td>control</td>\n",
       "      <td>2020-07-07</td>\n",
       "      <td>13</td>\n",
       "      <td>Generic Smartphone</td>\n",
       "      <td>6</td>\n",
       "      <td>Chrome Mobile</td>\n",
       "      <td>1</td>\n",
       "      <td>0</td>\n",
       "    </tr>\n",
       "    <tr>\n",
       "      <th>4112</th>\n",
       "      <td>841b275a-7749-4182-bf5e-ef2720adee08</td>\n",
       "      <td>control</td>\n",
       "      <td>2020-07-03</td>\n",
       "      <td>15</td>\n",
       "      <td>Samsung SM-A515F</td>\n",
       "      <td>6</td>\n",
       "      <td>Chrome Mobile WebView</td>\n",
       "      <td>0</td>\n",
       "      <td>1</td>\n",
       "    </tr>\n",
       "    <tr>\n",
       "      <th>7670</th>\n",
       "      <td>f2ba9aee-4c90-41c1-85b8-340611a851c9</td>\n",
       "      <td>control</td>\n",
       "      <td>2020-07-03</td>\n",
       "      <td>15</td>\n",
       "      <td>Generic Smartphone</td>\n",
       "      <td>6</td>\n",
       "      <td>Chrome Mobile</td>\n",
       "      <td>1</td>\n",
       "      <td>0</td>\n",
       "    </tr>\n",
       "    <tr>\n",
       "      <th>4685</th>\n",
       "      <td>955f1eb7-9e62-46f3-bbb1-ca547332c925</td>\n",
       "      <td>control</td>\n",
       "      <td>2020-07-04</td>\n",
       "      <td>4</td>\n",
       "      <td>Generic Smartphone</td>\n",
       "      <td>6</td>\n",
       "      <td>Chrome Mobile</td>\n",
       "      <td>0</td>\n",
       "      <td>1</td>\n",
       "    </tr>\n",
       "  </tbody>\n",
       "</table>\n",
       "<p>251 rows × 9 columns</p>\n",
       "</div>"
      ],
      "text/plain": [
       "                                auction_id experiment        date  hour  \\\n",
       "7166  e3d9dd45-d1b7-4502-ab4a-d7f9f3a1c272    control  2020-07-08    19   \n",
       "3374  6d0b7da0-7798-4b70-88c2-f94e5ab65cb6    control  2020-07-10     4   \n",
       "362   0b0344c4-b114-4705-ad68-6662f0d3bedc    control  2020-07-03    15   \n",
       "6413  cb7d4819-501d-471c-ad2b-f4f945eb411e    control  2020-07-09    19   \n",
       "3574  735d2323-b1f5-4fb8-9893-96a00e3a4e0f    control  2020-07-05     4   \n",
       "...                                    ...        ...         ...   ...   \n",
       "7808  f79d0a9c-3d11-4145-aa4d-74bfb4dbc399    control  2020-07-06     3   \n",
       "5869  b9bb4710-4bde-43a7-ac9b-951f7a8d6e95    control  2020-07-07    13   \n",
       "4112  841b275a-7749-4182-bf5e-ef2720adee08    control  2020-07-03    15   \n",
       "7670  f2ba9aee-4c90-41c1-85b8-340611a851c9    control  2020-07-03    15   \n",
       "4685  955f1eb7-9e62-46f3-bbb1-ca547332c925    control  2020-07-04     4   \n",
       "\n",
       "             device_make  platform_os                browser  yes  no  \n",
       "7166    Samsung SM-G960F            6  Chrome Mobile WebView    0   1  \n",
       "3374  Generic Smartphone            6          Chrome Mobile    0   1  \n",
       "362                LG-$2            6          Chrome Mobile    1   0  \n",
       "6413    Samsung SM-G960F            6       Samsung Internet    1   0  \n",
       "3574    Samsung SM-G975F            6  Chrome Mobile WebView    1   0  \n",
       "...                  ...          ...                    ...  ...  ..  \n",
       "7808   Samsung SM-A105FN            6       Samsung Internet    1   0  \n",
       "5869  Generic Smartphone            6          Chrome Mobile    1   0  \n",
       "4112    Samsung SM-A515F            6  Chrome Mobile WebView    0   1  \n",
       "7670  Generic Smartphone            6          Chrome Mobile    1   0  \n",
       "4685  Generic Smartphone            6          Chrome Mobile    0   1  \n",
       "\n",
       "[251 rows x 9 columns]"
      ]
     },
     "execution_count": 11,
     "metadata": {},
     "output_type": "execute_result"
    }
   ],
   "source": [
    "# mengambil sample control\n",
    "sample_control = new_data[new_data[\"experiment\"] == \"control\"]\n",
    "sample_control = sample_control.sample(n = 251, random_state = 1) \n",
    "sample_control"
   ]
  },
  {
   "cell_type": "code",
   "execution_count": 12,
   "id": "22c66a33",
   "metadata": {},
   "outputs": [
    {
     "data": {
      "text/html": [
       "<div>\n",
       "<style scoped>\n",
       "    .dataframe tbody tr th:only-of-type {\n",
       "        vertical-align: middle;\n",
       "    }\n",
       "\n",
       "    .dataframe tbody tr th {\n",
       "        vertical-align: top;\n",
       "    }\n",
       "\n",
       "    .dataframe thead th {\n",
       "        text-align: right;\n",
       "    }\n",
       "</style>\n",
       "<table border=\"1\" class=\"dataframe\">\n",
       "  <thead>\n",
       "    <tr style=\"text-align: right;\">\n",
       "      <th></th>\n",
       "      <th>auction_id</th>\n",
       "      <th>experiment</th>\n",
       "      <th>date</th>\n",
       "      <th>hour</th>\n",
       "      <th>device_make</th>\n",
       "      <th>platform_os</th>\n",
       "      <th>browser</th>\n",
       "      <th>yes</th>\n",
       "      <th>no</th>\n",
       "    </tr>\n",
       "  </thead>\n",
       "  <tbody>\n",
       "    <tr>\n",
       "      <th>6025</th>\n",
       "      <td>bf518047-40e7-44e0-a653-16fb004dacab</td>\n",
       "      <td>exposed</td>\n",
       "      <td>2020-07-09</td>\n",
       "      <td>9</td>\n",
       "      <td>Generic Smartphone</td>\n",
       "      <td>6</td>\n",
       "      <td>Chrome Mobile</td>\n",
       "      <td>0</td>\n",
       "      <td>1</td>\n",
       "    </tr>\n",
       "    <tr>\n",
       "      <th>7470</th>\n",
       "      <td>ec77e672-dc3d-47ed-9fbb-f9f2a2d71ab7</td>\n",
       "      <td>exposed</td>\n",
       "      <td>2020-07-05</td>\n",
       "      <td>9</td>\n",
       "      <td>Generic Smartphone</td>\n",
       "      <td>6</td>\n",
       "      <td>Chrome Mobile</td>\n",
       "      <td>0</td>\n",
       "      <td>1</td>\n",
       "    </tr>\n",
       "    <tr>\n",
       "      <th>8059</th>\n",
       "      <td>ffa08ff9-a132-4051-aef5-01a9c79367bc</td>\n",
       "      <td>exposed</td>\n",
       "      <td>2020-07-05</td>\n",
       "      <td>21</td>\n",
       "      <td>Generic Smartphone</td>\n",
       "      <td>6</td>\n",
       "      <td>Chrome Mobile</td>\n",
       "      <td>1</td>\n",
       "      <td>0</td>\n",
       "    </tr>\n",
       "    <tr>\n",
       "      <th>4071</th>\n",
       "      <td>82a14bc9-b578-4f25-9bef-137c3136a094</td>\n",
       "      <td>exposed</td>\n",
       "      <td>2020-07-03</td>\n",
       "      <td>9</td>\n",
       "      <td>Generic Smartphone</td>\n",
       "      <td>6</td>\n",
       "      <td>Chrome Mobile</td>\n",
       "      <td>0</td>\n",
       "      <td>1</td>\n",
       "    </tr>\n",
       "    <tr>\n",
       "      <th>3119</th>\n",
       "      <td>64f4838d-5f0d-49a1-be79-f261ec4d8ddd</td>\n",
       "      <td>exposed</td>\n",
       "      <td>2020-07-04</td>\n",
       "      <td>17</td>\n",
       "      <td>Generic Smartphone</td>\n",
       "      <td>6</td>\n",
       "      <td>Chrome Mobile</td>\n",
       "      <td>0</td>\n",
       "      <td>1</td>\n",
       "    </tr>\n",
       "    <tr>\n",
       "      <th>...</th>\n",
       "      <td>...</td>\n",
       "      <td>...</td>\n",
       "      <td>...</td>\n",
       "      <td>...</td>\n",
       "      <td>...</td>\n",
       "      <td>...</td>\n",
       "      <td>...</td>\n",
       "      <td>...</td>\n",
       "      <td>...</td>\n",
       "    </tr>\n",
       "    <tr>\n",
       "      <th>7610</th>\n",
       "      <td>f0e7fb7e-636a-492a-9666-0a6db8b2fa03</td>\n",
       "      <td>exposed</td>\n",
       "      <td>2020-07-09</td>\n",
       "      <td>9</td>\n",
       "      <td>Generic Smartphone</td>\n",
       "      <td>6</td>\n",
       "      <td>Chrome Mobile</td>\n",
       "      <td>1</td>\n",
       "      <td>0</td>\n",
       "    </tr>\n",
       "    <tr>\n",
       "      <th>6671</th>\n",
       "      <td>d3bad2f2-1619-413b-96c9-460ca19c4ab3</td>\n",
       "      <td>exposed</td>\n",
       "      <td>2020-07-09</td>\n",
       "      <td>0</td>\n",
       "      <td>Samsung SM-A310F</td>\n",
       "      <td>6</td>\n",
       "      <td>Samsung Internet</td>\n",
       "      <td>1</td>\n",
       "      <td>0</td>\n",
       "    </tr>\n",
       "    <tr>\n",
       "      <th>2183</th>\n",
       "      <td>4796d66c-1849-4a31-bb38-75b0d41d566c</td>\n",
       "      <td>exposed</td>\n",
       "      <td>2020-07-06</td>\n",
       "      <td>9</td>\n",
       "      <td>Generic Smartphone</td>\n",
       "      <td>6</td>\n",
       "      <td>Chrome Mobile</td>\n",
       "      <td>0</td>\n",
       "      <td>1</td>\n",
       "    </tr>\n",
       "    <tr>\n",
       "      <th>5245</th>\n",
       "      <td>a67c0609-3e55-4aec-9078-e9bd2c528ce8</td>\n",
       "      <td>exposed</td>\n",
       "      <td>2020-07-07</td>\n",
       "      <td>11</td>\n",
       "      <td>Generic Smartphone</td>\n",
       "      <td>6</td>\n",
       "      <td>Chrome Mobile</td>\n",
       "      <td>0</td>\n",
       "      <td>1</td>\n",
       "    </tr>\n",
       "    <tr>\n",
       "      <th>4355</th>\n",
       "      <td>8b25c4f8-abaa-4f2c-af60-c280850650b8</td>\n",
       "      <td>exposed</td>\n",
       "      <td>2020-07-10</td>\n",
       "      <td>14</td>\n",
       "      <td>Samsung SM-N960F</td>\n",
       "      <td>6</td>\n",
       "      <td>Samsung Internet</td>\n",
       "      <td>0</td>\n",
       "      <td>1</td>\n",
       "    </tr>\n",
       "  </tbody>\n",
       "</table>\n",
       "<p>251 rows × 9 columns</p>\n",
       "</div>"
      ],
      "text/plain": [
       "                                auction_id experiment        date  hour  \\\n",
       "6025  bf518047-40e7-44e0-a653-16fb004dacab    exposed  2020-07-09     9   \n",
       "7470  ec77e672-dc3d-47ed-9fbb-f9f2a2d71ab7    exposed  2020-07-05     9   \n",
       "8059  ffa08ff9-a132-4051-aef5-01a9c79367bc    exposed  2020-07-05    21   \n",
       "4071  82a14bc9-b578-4f25-9bef-137c3136a094    exposed  2020-07-03     9   \n",
       "3119  64f4838d-5f0d-49a1-be79-f261ec4d8ddd    exposed  2020-07-04    17   \n",
       "...                                    ...        ...         ...   ...   \n",
       "7610  f0e7fb7e-636a-492a-9666-0a6db8b2fa03    exposed  2020-07-09     9   \n",
       "6671  d3bad2f2-1619-413b-96c9-460ca19c4ab3    exposed  2020-07-09     0   \n",
       "2183  4796d66c-1849-4a31-bb38-75b0d41d566c    exposed  2020-07-06     9   \n",
       "5245  a67c0609-3e55-4aec-9078-e9bd2c528ce8    exposed  2020-07-07    11   \n",
       "4355  8b25c4f8-abaa-4f2c-af60-c280850650b8    exposed  2020-07-10    14   \n",
       "\n",
       "             device_make  platform_os           browser  yes  no  \n",
       "6025  Generic Smartphone            6     Chrome Mobile    0   1  \n",
       "7470  Generic Smartphone            6     Chrome Mobile    0   1  \n",
       "8059  Generic Smartphone            6     Chrome Mobile    1   0  \n",
       "4071  Generic Smartphone            6     Chrome Mobile    0   1  \n",
       "3119  Generic Smartphone            6     Chrome Mobile    0   1  \n",
       "...                  ...          ...               ...  ...  ..  \n",
       "7610  Generic Smartphone            6     Chrome Mobile    1   0  \n",
       "6671    Samsung SM-A310F            6  Samsung Internet    1   0  \n",
       "2183  Generic Smartphone            6     Chrome Mobile    0   1  \n",
       "5245  Generic Smartphone            6     Chrome Mobile    0   1  \n",
       "4355    Samsung SM-N960F            6  Samsung Internet    0   1  \n",
       "\n",
       "[251 rows x 9 columns]"
      ]
     },
     "execution_count": 12,
     "metadata": {},
     "output_type": "execute_result"
    }
   ],
   "source": [
    "# mengambil sample treatment\n",
    "sample_treatment = new_data[new_data[\"experiment\"] == \"exposed\"]\n",
    "sample_treatment = sample_treatment.sample(n = 251, random_state = 1)\n",
    "sample_treatment"
   ]
  },
  {
   "cell_type": "code",
   "execution_count": 13,
   "id": "2f2afb99",
   "metadata": {},
   "outputs": [
    {
     "data": {
      "text/html": [
       "<div>\n",
       "<style scoped>\n",
       "    .dataframe tbody tr th:only-of-type {\n",
       "        vertical-align: middle;\n",
       "    }\n",
       "\n",
       "    .dataframe tbody tr th {\n",
       "        vertical-align: top;\n",
       "    }\n",
       "\n",
       "    .dataframe thead th {\n",
       "        text-align: right;\n",
       "    }\n",
       "</style>\n",
       "<table border=\"1\" class=\"dataframe\">\n",
       "  <thead>\n",
       "    <tr style=\"text-align: right;\">\n",
       "      <th></th>\n",
       "      <th>auction_id</th>\n",
       "      <th>experiment</th>\n",
       "      <th>date</th>\n",
       "      <th>hour</th>\n",
       "      <th>device_make</th>\n",
       "      <th>platform_os</th>\n",
       "      <th>browser</th>\n",
       "      <th>yes</th>\n",
       "      <th>no</th>\n",
       "    </tr>\n",
       "  </thead>\n",
       "  <tbody>\n",
       "    <tr>\n",
       "      <th>0</th>\n",
       "      <td>e3d9dd45-d1b7-4502-ab4a-d7f9f3a1c272</td>\n",
       "      <td>control</td>\n",
       "      <td>2020-07-08</td>\n",
       "      <td>19</td>\n",
       "      <td>Samsung SM-G960F</td>\n",
       "      <td>6</td>\n",
       "      <td>Chrome Mobile WebView</td>\n",
       "      <td>0</td>\n",
       "      <td>1</td>\n",
       "    </tr>\n",
       "    <tr>\n",
       "      <th>1</th>\n",
       "      <td>6d0b7da0-7798-4b70-88c2-f94e5ab65cb6</td>\n",
       "      <td>control</td>\n",
       "      <td>2020-07-10</td>\n",
       "      <td>4</td>\n",
       "      <td>Generic Smartphone</td>\n",
       "      <td>6</td>\n",
       "      <td>Chrome Mobile</td>\n",
       "      <td>0</td>\n",
       "      <td>1</td>\n",
       "    </tr>\n",
       "    <tr>\n",
       "      <th>2</th>\n",
       "      <td>0b0344c4-b114-4705-ad68-6662f0d3bedc</td>\n",
       "      <td>control</td>\n",
       "      <td>2020-07-03</td>\n",
       "      <td>15</td>\n",
       "      <td>LG-$2</td>\n",
       "      <td>6</td>\n",
       "      <td>Chrome Mobile</td>\n",
       "      <td>1</td>\n",
       "      <td>0</td>\n",
       "    </tr>\n",
       "    <tr>\n",
       "      <th>3</th>\n",
       "      <td>cb7d4819-501d-471c-ad2b-f4f945eb411e</td>\n",
       "      <td>control</td>\n",
       "      <td>2020-07-09</td>\n",
       "      <td>19</td>\n",
       "      <td>Samsung SM-G960F</td>\n",
       "      <td>6</td>\n",
       "      <td>Samsung Internet</td>\n",
       "      <td>1</td>\n",
       "      <td>0</td>\n",
       "    </tr>\n",
       "    <tr>\n",
       "      <th>4</th>\n",
       "      <td>735d2323-b1f5-4fb8-9893-96a00e3a4e0f</td>\n",
       "      <td>control</td>\n",
       "      <td>2020-07-05</td>\n",
       "      <td>4</td>\n",
       "      <td>Samsung SM-G975F</td>\n",
       "      <td>6</td>\n",
       "      <td>Chrome Mobile WebView</td>\n",
       "      <td>1</td>\n",
       "      <td>0</td>\n",
       "    </tr>\n",
       "    <tr>\n",
       "      <th>...</th>\n",
       "      <td>...</td>\n",
       "      <td>...</td>\n",
       "      <td>...</td>\n",
       "      <td>...</td>\n",
       "      <td>...</td>\n",
       "      <td>...</td>\n",
       "      <td>...</td>\n",
       "      <td>...</td>\n",
       "      <td>...</td>\n",
       "    </tr>\n",
       "    <tr>\n",
       "      <th>497</th>\n",
       "      <td>f0e7fb7e-636a-492a-9666-0a6db8b2fa03</td>\n",
       "      <td>exposed</td>\n",
       "      <td>2020-07-09</td>\n",
       "      <td>9</td>\n",
       "      <td>Generic Smartphone</td>\n",
       "      <td>6</td>\n",
       "      <td>Chrome Mobile</td>\n",
       "      <td>1</td>\n",
       "      <td>0</td>\n",
       "    </tr>\n",
       "    <tr>\n",
       "      <th>498</th>\n",
       "      <td>d3bad2f2-1619-413b-96c9-460ca19c4ab3</td>\n",
       "      <td>exposed</td>\n",
       "      <td>2020-07-09</td>\n",
       "      <td>0</td>\n",
       "      <td>Samsung SM-A310F</td>\n",
       "      <td>6</td>\n",
       "      <td>Samsung Internet</td>\n",
       "      <td>1</td>\n",
       "      <td>0</td>\n",
       "    </tr>\n",
       "    <tr>\n",
       "      <th>499</th>\n",
       "      <td>4796d66c-1849-4a31-bb38-75b0d41d566c</td>\n",
       "      <td>exposed</td>\n",
       "      <td>2020-07-06</td>\n",
       "      <td>9</td>\n",
       "      <td>Generic Smartphone</td>\n",
       "      <td>6</td>\n",
       "      <td>Chrome Mobile</td>\n",
       "      <td>0</td>\n",
       "      <td>1</td>\n",
       "    </tr>\n",
       "    <tr>\n",
       "      <th>500</th>\n",
       "      <td>a67c0609-3e55-4aec-9078-e9bd2c528ce8</td>\n",
       "      <td>exposed</td>\n",
       "      <td>2020-07-07</td>\n",
       "      <td>11</td>\n",
       "      <td>Generic Smartphone</td>\n",
       "      <td>6</td>\n",
       "      <td>Chrome Mobile</td>\n",
       "      <td>0</td>\n",
       "      <td>1</td>\n",
       "    </tr>\n",
       "    <tr>\n",
       "      <th>501</th>\n",
       "      <td>8b25c4f8-abaa-4f2c-af60-c280850650b8</td>\n",
       "      <td>exposed</td>\n",
       "      <td>2020-07-10</td>\n",
       "      <td>14</td>\n",
       "      <td>Samsung SM-N960F</td>\n",
       "      <td>6</td>\n",
       "      <td>Samsung Internet</td>\n",
       "      <td>0</td>\n",
       "      <td>1</td>\n",
       "    </tr>\n",
       "  </tbody>\n",
       "</table>\n",
       "<p>502 rows × 9 columns</p>\n",
       "</div>"
      ],
      "text/plain": [
       "                               auction_id experiment        date  hour  \\\n",
       "0    e3d9dd45-d1b7-4502-ab4a-d7f9f3a1c272    control  2020-07-08    19   \n",
       "1    6d0b7da0-7798-4b70-88c2-f94e5ab65cb6    control  2020-07-10     4   \n",
       "2    0b0344c4-b114-4705-ad68-6662f0d3bedc    control  2020-07-03    15   \n",
       "3    cb7d4819-501d-471c-ad2b-f4f945eb411e    control  2020-07-09    19   \n",
       "4    735d2323-b1f5-4fb8-9893-96a00e3a4e0f    control  2020-07-05     4   \n",
       "..                                    ...        ...         ...   ...   \n",
       "497  f0e7fb7e-636a-492a-9666-0a6db8b2fa03    exposed  2020-07-09     9   \n",
       "498  d3bad2f2-1619-413b-96c9-460ca19c4ab3    exposed  2020-07-09     0   \n",
       "499  4796d66c-1849-4a31-bb38-75b0d41d566c    exposed  2020-07-06     9   \n",
       "500  a67c0609-3e55-4aec-9078-e9bd2c528ce8    exposed  2020-07-07    11   \n",
       "501  8b25c4f8-abaa-4f2c-af60-c280850650b8    exposed  2020-07-10    14   \n",
       "\n",
       "            device_make  platform_os                browser  yes  no  \n",
       "0      Samsung SM-G960F            6  Chrome Mobile WebView    0   1  \n",
       "1    Generic Smartphone            6          Chrome Mobile    0   1  \n",
       "2                 LG-$2            6          Chrome Mobile    1   0  \n",
       "3      Samsung SM-G960F            6       Samsung Internet    1   0  \n",
       "4      Samsung SM-G975F            6  Chrome Mobile WebView    1   0  \n",
       "..                  ...          ...                    ...  ...  ..  \n",
       "497  Generic Smartphone            6          Chrome Mobile    1   0  \n",
       "498    Samsung SM-A310F            6       Samsung Internet    1   0  \n",
       "499  Generic Smartphone            6          Chrome Mobile    0   1  \n",
       "500  Generic Smartphone            6          Chrome Mobile    0   1  \n",
       "501    Samsung SM-N960F            6       Samsung Internet    0   1  \n",
       "\n",
       "[502 rows x 9 columns]"
      ]
     },
     "execution_count": 13,
     "metadata": {},
     "output_type": "execute_result"
    }
   ],
   "source": [
    "# menggabungkan dataframe control dan treatment\n",
    "sample = sample_control.append(sample_treatment, ignore_index = True)\n",
    "sample"
   ]
  },
  {
   "cell_type": "markdown",
   "id": "f3e8a855",
   "metadata": {},
   "source": [
    "#### Memastikan Kualitas Data"
   ]
  },
  {
   "cell_type": "code",
   "execution_count": 14,
   "id": "d1e00f00",
   "metadata": {},
   "outputs": [
    {
     "data": {
      "text/plain": [
       "auction_id     0\n",
       "experiment     0\n",
       "date           0\n",
       "hour           0\n",
       "device_make    0\n",
       "platform_os    0\n",
       "browser        0\n",
       "yes            0\n",
       "no             0\n",
       "dtype: int64"
      ]
     },
     "execution_count": 14,
     "metadata": {},
     "output_type": "execute_result"
    }
   ],
   "source": [
    "# cek missing value\n",
    "sample.isna().sum()"
   ]
  },
  {
   "cell_type": "code",
   "execution_count": 15,
   "id": "3981d4a9",
   "metadata": {},
   "outputs": [
    {
     "data": {
      "text/plain": [
       "0"
      ]
     },
     "execution_count": 15,
     "metadata": {},
     "output_type": "execute_result"
    }
   ],
   "source": [
    "# cek data duplikat\n",
    "sample.duplicated('auction_id').sum()"
   ]
  },
  {
   "cell_type": "code",
   "execution_count": 16,
   "id": "b27c55d3",
   "metadata": {},
   "outputs": [
    {
     "data": {
      "text/html": [
       "<div>\n",
       "<style scoped>\n",
       "    .dataframe tbody tr th:only-of-type {\n",
       "        vertical-align: middle;\n",
       "    }\n",
       "\n",
       "    .dataframe tbody tr th {\n",
       "        vertical-align: top;\n",
       "    }\n",
       "\n",
       "    .dataframe thead th {\n",
       "        text-align: right;\n",
       "    }\n",
       "</style>\n",
       "<table border=\"1\" class=\"dataframe\">\n",
       "  <thead>\n",
       "    <tr style=\"text-align: right;\">\n",
       "      <th></th>\n",
       "      <th>auction_id</th>\n",
       "      <th>experiment</th>\n",
       "      <th>date</th>\n",
       "      <th>hour</th>\n",
       "      <th>device_make</th>\n",
       "      <th>platform_os</th>\n",
       "      <th>browser</th>\n",
       "      <th>converted</th>\n",
       "    </tr>\n",
       "  </thead>\n",
       "  <tbody>\n",
       "    <tr>\n",
       "      <th>0</th>\n",
       "      <td>e3d9dd45-d1b7-4502-ab4a-d7f9f3a1c272</td>\n",
       "      <td>control</td>\n",
       "      <td>2020-07-08</td>\n",
       "      <td>19</td>\n",
       "      <td>Samsung SM-G960F</td>\n",
       "      <td>6</td>\n",
       "      <td>Chrome Mobile WebView</td>\n",
       "      <td>0</td>\n",
       "    </tr>\n",
       "    <tr>\n",
       "      <th>1</th>\n",
       "      <td>6d0b7da0-7798-4b70-88c2-f94e5ab65cb6</td>\n",
       "      <td>control</td>\n",
       "      <td>2020-07-10</td>\n",
       "      <td>4</td>\n",
       "      <td>Generic Smartphone</td>\n",
       "      <td>6</td>\n",
       "      <td>Chrome Mobile</td>\n",
       "      <td>0</td>\n",
       "    </tr>\n",
       "    <tr>\n",
       "      <th>2</th>\n",
       "      <td>0b0344c4-b114-4705-ad68-6662f0d3bedc</td>\n",
       "      <td>control</td>\n",
       "      <td>2020-07-03</td>\n",
       "      <td>15</td>\n",
       "      <td>LG-$2</td>\n",
       "      <td>6</td>\n",
       "      <td>Chrome Mobile</td>\n",
       "      <td>1</td>\n",
       "    </tr>\n",
       "    <tr>\n",
       "      <th>3</th>\n",
       "      <td>cb7d4819-501d-471c-ad2b-f4f945eb411e</td>\n",
       "      <td>control</td>\n",
       "      <td>2020-07-09</td>\n",
       "      <td>19</td>\n",
       "      <td>Samsung SM-G960F</td>\n",
       "      <td>6</td>\n",
       "      <td>Samsung Internet</td>\n",
       "      <td>1</td>\n",
       "    </tr>\n",
       "    <tr>\n",
       "      <th>4</th>\n",
       "      <td>735d2323-b1f5-4fb8-9893-96a00e3a4e0f</td>\n",
       "      <td>control</td>\n",
       "      <td>2020-07-05</td>\n",
       "      <td>4</td>\n",
       "      <td>Samsung SM-G975F</td>\n",
       "      <td>6</td>\n",
       "      <td>Chrome Mobile WebView</td>\n",
       "      <td>1</td>\n",
       "    </tr>\n",
       "    <tr>\n",
       "      <th>...</th>\n",
       "      <td>...</td>\n",
       "      <td>...</td>\n",
       "      <td>...</td>\n",
       "      <td>...</td>\n",
       "      <td>...</td>\n",
       "      <td>...</td>\n",
       "      <td>...</td>\n",
       "      <td>...</td>\n",
       "    </tr>\n",
       "    <tr>\n",
       "      <th>497</th>\n",
       "      <td>f0e7fb7e-636a-492a-9666-0a6db8b2fa03</td>\n",
       "      <td>exposed</td>\n",
       "      <td>2020-07-09</td>\n",
       "      <td>9</td>\n",
       "      <td>Generic Smartphone</td>\n",
       "      <td>6</td>\n",
       "      <td>Chrome Mobile</td>\n",
       "      <td>1</td>\n",
       "    </tr>\n",
       "    <tr>\n",
       "      <th>498</th>\n",
       "      <td>d3bad2f2-1619-413b-96c9-460ca19c4ab3</td>\n",
       "      <td>exposed</td>\n",
       "      <td>2020-07-09</td>\n",
       "      <td>0</td>\n",
       "      <td>Samsung SM-A310F</td>\n",
       "      <td>6</td>\n",
       "      <td>Samsung Internet</td>\n",
       "      <td>1</td>\n",
       "    </tr>\n",
       "    <tr>\n",
       "      <th>499</th>\n",
       "      <td>4796d66c-1849-4a31-bb38-75b0d41d566c</td>\n",
       "      <td>exposed</td>\n",
       "      <td>2020-07-06</td>\n",
       "      <td>9</td>\n",
       "      <td>Generic Smartphone</td>\n",
       "      <td>6</td>\n",
       "      <td>Chrome Mobile</td>\n",
       "      <td>0</td>\n",
       "    </tr>\n",
       "    <tr>\n",
       "      <th>500</th>\n",
       "      <td>a67c0609-3e55-4aec-9078-e9bd2c528ce8</td>\n",
       "      <td>exposed</td>\n",
       "      <td>2020-07-07</td>\n",
       "      <td>11</td>\n",
       "      <td>Generic Smartphone</td>\n",
       "      <td>6</td>\n",
       "      <td>Chrome Mobile</td>\n",
       "      <td>0</td>\n",
       "    </tr>\n",
       "    <tr>\n",
       "      <th>501</th>\n",
       "      <td>8b25c4f8-abaa-4f2c-af60-c280850650b8</td>\n",
       "      <td>exposed</td>\n",
       "      <td>2020-07-10</td>\n",
       "      <td>14</td>\n",
       "      <td>Samsung SM-N960F</td>\n",
       "      <td>6</td>\n",
       "      <td>Samsung Internet</td>\n",
       "      <td>0</td>\n",
       "    </tr>\n",
       "  </tbody>\n",
       "</table>\n",
       "<p>502 rows × 8 columns</p>\n",
       "</div>"
      ],
      "text/plain": [
       "                               auction_id experiment        date  hour  \\\n",
       "0    e3d9dd45-d1b7-4502-ab4a-d7f9f3a1c272    control  2020-07-08    19   \n",
       "1    6d0b7da0-7798-4b70-88c2-f94e5ab65cb6    control  2020-07-10     4   \n",
       "2    0b0344c4-b114-4705-ad68-6662f0d3bedc    control  2020-07-03    15   \n",
       "3    cb7d4819-501d-471c-ad2b-f4f945eb411e    control  2020-07-09    19   \n",
       "4    735d2323-b1f5-4fb8-9893-96a00e3a4e0f    control  2020-07-05     4   \n",
       "..                                    ...        ...         ...   ...   \n",
       "497  f0e7fb7e-636a-492a-9666-0a6db8b2fa03    exposed  2020-07-09     9   \n",
       "498  d3bad2f2-1619-413b-96c9-460ca19c4ab3    exposed  2020-07-09     0   \n",
       "499  4796d66c-1849-4a31-bb38-75b0d41d566c    exposed  2020-07-06     9   \n",
       "500  a67c0609-3e55-4aec-9078-e9bd2c528ce8    exposed  2020-07-07    11   \n",
       "501  8b25c4f8-abaa-4f2c-af60-c280850650b8    exposed  2020-07-10    14   \n",
       "\n",
       "            device_make  platform_os                browser  converted  \n",
       "0      Samsung SM-G960F            6  Chrome Mobile WebView          0  \n",
       "1    Generic Smartphone            6          Chrome Mobile          0  \n",
       "2                 LG-$2            6          Chrome Mobile          1  \n",
       "3      Samsung SM-G960F            6       Samsung Internet          1  \n",
       "4      Samsung SM-G975F            6  Chrome Mobile WebView          1  \n",
       "..                  ...          ...                    ...        ...  \n",
       "497  Generic Smartphone            6          Chrome Mobile          1  \n",
       "498    Samsung SM-A310F            6       Samsung Internet          1  \n",
       "499  Generic Smartphone            6          Chrome Mobile          0  \n",
       "500  Generic Smartphone            6          Chrome Mobile          0  \n",
       "501    Samsung SM-N960F            6       Samsung Internet          0  \n",
       "\n",
       "[502 rows x 8 columns]"
      ]
     },
     "execution_count": 16,
     "metadata": {},
     "output_type": "execute_result"
    }
   ],
   "source": [
    "# mengubah kolom 'yes' menjadi 'convert': Bernilai 1 jika user memilih tombol 'yes',bernilai 0 apabila user memilih tombol 'no'\n",
    "sample.drop('no', axis = 1, inplace = True)\n",
    "sample.rename(columns = {'yes':'converted'}, inplace = True)\n",
    "sample\n",
    "     "
   ]
  },
  {
   "cell_type": "markdown",
   "id": "bb02bc28",
   "metadata": {},
   "source": [
    "#### Sample Ratio Missmatch"
   ]
  },
  {
   "cell_type": "code",
   "execution_count": 17,
   "id": "7c51e5e2",
   "metadata": {},
   "outputs": [
    {
     "data": {
      "text/html": [
       "<div>\n",
       "<style scoped>\n",
       "    .dataframe tbody tr th:only-of-type {\n",
       "        vertical-align: middle;\n",
       "    }\n",
       "\n",
       "    .dataframe tbody tr th {\n",
       "        vertical-align: top;\n",
       "    }\n",
       "\n",
       "    .dataframe thead th {\n",
       "        text-align: right;\n",
       "    }\n",
       "</style>\n",
       "<table border=\"1\" class=\"dataframe\">\n",
       "  <thead>\n",
       "    <tr style=\"text-align: right;\">\n",
       "      <th></th>\n",
       "      <th>auction_id</th>\n",
       "      <th>experiment</th>\n",
       "      <th>date</th>\n",
       "      <th>hour</th>\n",
       "      <th>device_make</th>\n",
       "      <th>platform_os</th>\n",
       "      <th>browser</th>\n",
       "      <th>converted</th>\n",
       "    </tr>\n",
       "  </thead>\n",
       "  <tbody>\n",
       "    <tr>\n",
       "      <th>0</th>\n",
       "      <td>e3d9dd45-d1b7-4502-ab4a-d7f9f3a1c272</td>\n",
       "      <td>control</td>\n",
       "      <td>2020-07-08</td>\n",
       "      <td>19</td>\n",
       "      <td>Samsung SM-G960F</td>\n",
       "      <td>6</td>\n",
       "      <td>Chrome Mobile WebView</td>\n",
       "      <td>0</td>\n",
       "    </tr>\n",
       "    <tr>\n",
       "      <th>1</th>\n",
       "      <td>6d0b7da0-7798-4b70-88c2-f94e5ab65cb6</td>\n",
       "      <td>control</td>\n",
       "      <td>2020-07-10</td>\n",
       "      <td>4</td>\n",
       "      <td>Generic Smartphone</td>\n",
       "      <td>6</td>\n",
       "      <td>Chrome Mobile</td>\n",
       "      <td>0</td>\n",
       "    </tr>\n",
       "    <tr>\n",
       "      <th>2</th>\n",
       "      <td>0b0344c4-b114-4705-ad68-6662f0d3bedc</td>\n",
       "      <td>control</td>\n",
       "      <td>2020-07-03</td>\n",
       "      <td>15</td>\n",
       "      <td>LG-$2</td>\n",
       "      <td>6</td>\n",
       "      <td>Chrome Mobile</td>\n",
       "      <td>1</td>\n",
       "    </tr>\n",
       "    <tr>\n",
       "      <th>3</th>\n",
       "      <td>cb7d4819-501d-471c-ad2b-f4f945eb411e</td>\n",
       "      <td>control</td>\n",
       "      <td>2020-07-09</td>\n",
       "      <td>19</td>\n",
       "      <td>Samsung SM-G960F</td>\n",
       "      <td>6</td>\n",
       "      <td>Samsung Internet</td>\n",
       "      <td>1</td>\n",
       "    </tr>\n",
       "    <tr>\n",
       "      <th>4</th>\n",
       "      <td>735d2323-b1f5-4fb8-9893-96a00e3a4e0f</td>\n",
       "      <td>control</td>\n",
       "      <td>2020-07-05</td>\n",
       "      <td>4</td>\n",
       "      <td>Samsung SM-G975F</td>\n",
       "      <td>6</td>\n",
       "      <td>Chrome Mobile WebView</td>\n",
       "      <td>1</td>\n",
       "    </tr>\n",
       "  </tbody>\n",
       "</table>\n",
       "</div>"
      ],
      "text/plain": [
       "                             auction_id experiment        date  hour  \\\n",
       "0  e3d9dd45-d1b7-4502-ab4a-d7f9f3a1c272    control  2020-07-08    19   \n",
       "1  6d0b7da0-7798-4b70-88c2-f94e5ab65cb6    control  2020-07-10     4   \n",
       "2  0b0344c4-b114-4705-ad68-6662f0d3bedc    control  2020-07-03    15   \n",
       "3  cb7d4819-501d-471c-ad2b-f4f945eb411e    control  2020-07-09    19   \n",
       "4  735d2323-b1f5-4fb8-9893-96a00e3a4e0f    control  2020-07-05     4   \n",
       "\n",
       "          device_make  platform_os                browser  converted  \n",
       "0    Samsung SM-G960F            6  Chrome Mobile WebView          0  \n",
       "1  Generic Smartphone            6          Chrome Mobile          0  \n",
       "2               LG-$2            6          Chrome Mobile          1  \n",
       "3    Samsung SM-G960F            6       Samsung Internet          1  \n",
       "4    Samsung SM-G975F            6  Chrome Mobile WebView          1  "
      ]
     },
     "execution_count": 17,
     "metadata": {},
     "output_type": "execute_result"
    }
   ],
   "source": [
    "# membuat data control\n",
    "data_control = sample[sample['experiment'] == 'control']\n",
    "data_control.head()"
   ]
  },
  {
   "cell_type": "code",
   "execution_count": 18,
   "id": "fec9561f",
   "metadata": {},
   "outputs": [
    {
     "data": {
      "text/html": [
       "<div>\n",
       "<style scoped>\n",
       "    .dataframe tbody tr th:only-of-type {\n",
       "        vertical-align: middle;\n",
       "    }\n",
       "\n",
       "    .dataframe tbody tr th {\n",
       "        vertical-align: top;\n",
       "    }\n",
       "\n",
       "    .dataframe thead th {\n",
       "        text-align: right;\n",
       "    }\n",
       "</style>\n",
       "<table border=\"1\" class=\"dataframe\">\n",
       "  <thead>\n",
       "    <tr style=\"text-align: right;\">\n",
       "      <th></th>\n",
       "      <th>auction_id</th>\n",
       "      <th>experiment</th>\n",
       "      <th>date</th>\n",
       "      <th>hour</th>\n",
       "      <th>device_make</th>\n",
       "      <th>platform_os</th>\n",
       "      <th>browser</th>\n",
       "      <th>converted</th>\n",
       "    </tr>\n",
       "  </thead>\n",
       "  <tbody>\n",
       "    <tr>\n",
       "      <th>251</th>\n",
       "      <td>bf518047-40e7-44e0-a653-16fb004dacab</td>\n",
       "      <td>exposed</td>\n",
       "      <td>2020-07-09</td>\n",
       "      <td>9</td>\n",
       "      <td>Generic Smartphone</td>\n",
       "      <td>6</td>\n",
       "      <td>Chrome Mobile</td>\n",
       "      <td>0</td>\n",
       "    </tr>\n",
       "    <tr>\n",
       "      <th>252</th>\n",
       "      <td>ec77e672-dc3d-47ed-9fbb-f9f2a2d71ab7</td>\n",
       "      <td>exposed</td>\n",
       "      <td>2020-07-05</td>\n",
       "      <td>9</td>\n",
       "      <td>Generic Smartphone</td>\n",
       "      <td>6</td>\n",
       "      <td>Chrome Mobile</td>\n",
       "      <td>0</td>\n",
       "    </tr>\n",
       "    <tr>\n",
       "      <th>253</th>\n",
       "      <td>ffa08ff9-a132-4051-aef5-01a9c79367bc</td>\n",
       "      <td>exposed</td>\n",
       "      <td>2020-07-05</td>\n",
       "      <td>21</td>\n",
       "      <td>Generic Smartphone</td>\n",
       "      <td>6</td>\n",
       "      <td>Chrome Mobile</td>\n",
       "      <td>1</td>\n",
       "    </tr>\n",
       "    <tr>\n",
       "      <th>254</th>\n",
       "      <td>82a14bc9-b578-4f25-9bef-137c3136a094</td>\n",
       "      <td>exposed</td>\n",
       "      <td>2020-07-03</td>\n",
       "      <td>9</td>\n",
       "      <td>Generic Smartphone</td>\n",
       "      <td>6</td>\n",
       "      <td>Chrome Mobile</td>\n",
       "      <td>0</td>\n",
       "    </tr>\n",
       "    <tr>\n",
       "      <th>255</th>\n",
       "      <td>64f4838d-5f0d-49a1-be79-f261ec4d8ddd</td>\n",
       "      <td>exposed</td>\n",
       "      <td>2020-07-04</td>\n",
       "      <td>17</td>\n",
       "      <td>Generic Smartphone</td>\n",
       "      <td>6</td>\n",
       "      <td>Chrome Mobile</td>\n",
       "      <td>0</td>\n",
       "    </tr>\n",
       "  </tbody>\n",
       "</table>\n",
       "</div>"
      ],
      "text/plain": [
       "                               auction_id experiment        date  hour  \\\n",
       "251  bf518047-40e7-44e0-a653-16fb004dacab    exposed  2020-07-09     9   \n",
       "252  ec77e672-dc3d-47ed-9fbb-f9f2a2d71ab7    exposed  2020-07-05     9   \n",
       "253  ffa08ff9-a132-4051-aef5-01a9c79367bc    exposed  2020-07-05    21   \n",
       "254  82a14bc9-b578-4f25-9bef-137c3136a094    exposed  2020-07-03     9   \n",
       "255  64f4838d-5f0d-49a1-be79-f261ec4d8ddd    exposed  2020-07-04    17   \n",
       "\n",
       "            device_make  platform_os        browser  converted  \n",
       "251  Generic Smartphone            6  Chrome Mobile          0  \n",
       "252  Generic Smartphone            6  Chrome Mobile          0  \n",
       "253  Generic Smartphone            6  Chrome Mobile          1  \n",
       "254  Generic Smartphone            6  Chrome Mobile          0  \n",
       "255  Generic Smartphone            6  Chrome Mobile          0  "
      ]
     },
     "execution_count": 18,
     "metadata": {},
     "output_type": "execute_result"
    }
   ],
   "source": [
    "# membuat data treatment\n",
    "data_treatment = sample[sample['experiment'] == 'exposed']\n",
    "data_treatment.head()"
   ]
  },
  {
   "cell_type": "code",
   "execution_count": 19,
   "id": "fc1b1937",
   "metadata": {},
   "outputs": [
    {
     "name": "stdout",
     "output_type": "stream",
     "text": [
      "Jumlah user di kelompok control    : 251 users\n",
      "Jumlah user di kelompok treatment  : 251 users\n"
     ]
    }
   ],
   "source": [
    "# menghitung jumlah user di control dan treatment group\n",
    "n_control = data_control.shape[0]\n",
    "n_treatment = data_treatment.shape[0]\n",
    "\n",
    "print(f'Jumlah user di kelompok control    : {n_control} users')\n",
    "print(f'Jumlah user di kelompok treatment  : {n_treatment} users')"
   ]
  },
  {
   "cell_type": "code",
   "execution_count": 20,
   "id": "44048355",
   "metadata": {},
   "outputs": [
    {
     "name": "stdout",
     "output_type": "stream",
     "text": [
      "Persentase varian control   : 50.00%\n",
      "Persentase varian treatment : 50.00%\n"
     ]
    }
   ],
   "source": [
    "# percentase di tiap grup\n",
    "n_total = sample.shape[0]\n",
    "persen_control = n_control/n_total * 100\n",
    "persen_treat = n_treatment/n_total * 100\n",
    "\n",
    "print(f\"Persentase varian control   : {persen_control:.2f}%\")\n",
    "print(f\"Persentase varian treatment : {persen_treat:.2f}%\")"
   ]
  },
  {
   "cell_type": "code",
   "execution_count": 21,
   "id": "f14bd556",
   "metadata": {},
   "outputs": [],
   "source": [
    "# membuat variabel observed dan expected value\n",
    "observed = [ n_control, n_treatment ]\n",
    "total_traffic= sum(observed)\n",
    "expected = [ total_traffic/2, total_traffic/2 ]"
   ]
  },
  {
   "cell_type": "code",
   "execution_count": 22,
   "id": "5e3c24d3",
   "metadata": {},
   "outputs": [
    {
     "name": "stdout",
     "output_type": "stream",
     "text": [
      "Power_divergenceResult(statistic=0.0, pvalue=1.0)\n"
     ]
    }
   ],
   "source": [
    "# menghitung chi-square statistics\n",
    "chi = chisquare(observed, f_exp=expected)\n",
    "print(chi)"
   ]
  },
  {
   "cell_type": "code",
   "execution_count": 23,
   "id": "274eeff9",
   "metadata": {},
   "outputs": [
    {
     "name": "stdout",
     "output_type": "stream",
     "text": [
      "Critical value: 6.635\n"
     ]
    }
   ],
   "source": [
    "# perbandingan chi-square statistics dengan critical value\n",
    "# kita harus menghitung critical value terlebih dahulu\n",
    "\n",
    "alpha = 0.01\n",
    "df=(2-1)*(2-1)  \n",
    "\n",
    "chi_critical = scipy.stats.chi2.ppf(1 - alpha, df)\n",
    "print(f\"Critical value: {chi_critical:.3f}\")"
   ]
  },
  {
   "cell_type": "code",
   "execution_count": 24,
   "id": "54e70be0",
   "metadata": {},
   "outputs": [
    {
     "name": "stdout",
     "output_type": "stream",
     "text": [
      "Gagal menolak H0 : Tidak ada SRM\n"
     ]
    }
   ],
   "source": [
    "# Membuat keputusan dari chi-square statistics dan critical value\n",
    "if chi[0] > chi_critical:\n",
    "  print(\"Tolak H0 : Adanya kemungkinan SRM.\")\n",
    "else:\n",
    "  print(\"Gagal menolak H0 : Tidak ada SRM\")"
   ]
  },
  {
   "cell_type": "code",
   "execution_count": 25,
   "id": "835e80f6",
   "metadata": {},
   "outputs": [
    {
     "name": "stdout",
     "output_type": "stream",
     "text": [
      "Gagal menolak H0 : Tidak ada SRM\n"
     ]
    }
   ],
   "source": [
    "# Comparison of P-Value with alpha.\n",
    "if chi[1] < 0.01:\n",
    "  print(\"Tolak H0 : Adanya kemungkinan SRM.\")\n",
    "else:\n",
    "  print(\"Gagal menolak H0 : Tidak ada SRM\")"
   ]
  },
  {
   "cell_type": "markdown",
   "id": "654b1483",
   "metadata": {},
   "source": [
    "Berdasarkan pengecekan kualitas data dan SRM, data yang digunakan pada eksperimen ini sudah bersih dan siap digunakan untuk dianalisis."
   ]
  },
  {
   "cell_type": "markdown",
   "id": "db5cfcc5",
   "metadata": {},
   "source": [
    "### g. Analyzing and Interpreting the Data"
   ]
  },
  {
   "cell_type": "code",
   "execution_count": 29,
   "id": "72007c60",
   "metadata": {},
   "outputs": [
    {
     "data": {
      "text/plain": [
       "124"
      ]
     },
     "execution_count": 29,
     "metadata": {},
     "output_type": "execute_result"
    }
   ],
   "source": [
    "# banyak user convert di group control\n",
    "\n",
    "# cari data group control yang convert\n",
    "data_control_convert = data_control[data_control[\"converted\"] == 1]\n",
    "\n",
    "# hitung banyak data yang convert\n",
    "n_control_convert = data_control_convert.shape[0]\n",
    "\n",
    "n_control_convert"
   ]
  },
  {
   "cell_type": "code",
   "execution_count": 30,
   "id": "ba3d7bee",
   "metadata": {},
   "outputs": [
    {
     "data": {
      "text/plain": [
       "112"
      ]
     },
     "execution_count": 30,
     "metadata": {},
     "output_type": "execute_result"
    }
   ],
   "source": [
    "# banyak user convert di group treatment\n",
    "\n",
    "# cari data group treatment yang convert\n",
    "data_treatment_convert = data_treatment[data_treatment[\"converted\"] == 1]\n",
    "\n",
    "# hitung banyak data yang convert\n",
    "n_treatment_convert = data_treatment_convert.shape[0]\n",
    "\n",
    "n_treatment_convert"
   ]
  },
  {
   "cell_type": "code",
   "execution_count": 31,
   "id": "bfe9fd78",
   "metadata": {},
   "outputs": [
    {
     "data": {
      "text/plain": [
       "0.4940239043824701"
      ]
     },
     "execution_count": 31,
     "metadata": {},
     "output_type": "execute_result"
    }
   ],
   "source": [
    "# conversion rate user control\n",
    "cr_control = n_control_convert / n_control\n",
    "cr_control"
   ]
  },
  {
   "cell_type": "code",
   "execution_count": 32,
   "id": "908cded4",
   "metadata": {},
   "outputs": [
    {
     "data": {
      "text/plain": [
       "0.44621513944223107"
      ]
     },
     "execution_count": 32,
     "metadata": {},
     "output_type": "execute_result"
    }
   ],
   "source": [
    "# conversion rate user treatment\n",
    "cr_treatment = n_treatment_convert / n_treatment\n",
    "cr_treatment"
   ]
  },
  {
   "cell_type": "code",
   "execution_count": 38,
   "id": "442a463a",
   "metadata": {},
   "outputs": [
    {
     "name": "stdout",
     "output_type": "stream",
     "text": [
      "+----+-----------+---------------+-------------------+-------------------+\n",
      "|    |   Group   |  Jumlah User  |  Jumlah Konversi  |  Conversion Rate  |\n",
      "+====+===========+===============+===================+===================+\n",
      "| 0  |  Control  |      251      |        124        |     0.494024      |\n",
      "+----+-----------+---------------+-------------------+-------------------+\n",
      "| 1  | Treatment |      251      |        112        |     0.446215      |\n",
      "+----+-----------+---------------+-------------------+-------------------+\n"
     ]
    }
   ],
   "source": [
    "# membuat tabel agar lebih mudah dibandingkan antar variant\n",
    "\n",
    "data = {\n",
    "    'Group': ['Control', 'Treatment'],\n",
    "    'Jumlah User': [251, 251],\n",
    "    'Jumlah Konversi': [n_control_convert, n_treatment_convert],\n",
    "    'Conversion Rate': [cr_control, cr_treatment]\n",
    "}\n",
    "\n",
    "df = pd.DataFrame(data)\n",
    "table = tabulate(df, headers='keys', tablefmt='grid', numalign=\"center\", stralign=\"center\")\n",
    "print(table)\n"
   ]
  },
  {
   "cell_type": "code",
   "execution_count": 42,
   "id": "4f8f0c90",
   "metadata": {},
   "outputs": [
    {
     "data": {
      "image/png": "[encoded data removed]",
      "text/plain": [
       "<Figure size 1000x700 with 1 Axes>"
      ]
     },
     "metadata": {},
     "output_type": "display_data"
    }
   ],
   "source": [
    "# membuat visualisasi\n",
    "# visualisasi perbandingan conversion rate tiap varian\n",
    "fig, ax = plt.subplots(nrows=1, ncols=1, figsize=(10, 7))\n",
    "\n",
    "# buat plot\n",
    "ax.bar(\"control\", cr_control, color=\"blue\", label=\"Control\")\n",
    "ax.bar(\"treatment\", cr_treatment, color=\"red\", label=\"Treatment\")\n",
    "\n",
    "# styling plot\n",
    "ax.set_ylabel(\"Conversion Rate\", fontsize=16)\n",
    "ax.set_xlabel(\"Group\", fontsize=16)\n",
    "ax.set_xticklabels(labels=[\"control\", \"treatment\"], fontsize=16)\n",
    "ax.legend(fontsize=16)\n",
    "plt.show()"
   ]
  },
  {
   "cell_type": "markdown",
   "id": "dbc97be1",
   "metadata": {},
   "source": [
    "Conversion rate dari variant control terlihat lebih tinggi dari variant treatment. Namun kita harus melakukan uji statistik untuk membuktikan perbedaan antar kedua variant signifikan secara statistik."
   ]
  },
  {
   "cell_type": "markdown",
   "id": "0b35ef41",
   "metadata": {},
   "source": [
    "#### Uji Statistik\n",
    "Kita definisikan Null hypothesis (H0)) dan Alternative hypothesis (H1)\n",
    "\n",
    "𝐻0: CR_interactive ≤ CR_static\n",
    "\n",
    "𝐻1: CR_interactive > CR_static"
   ]
  },
  {
   "cell_type": "code",
   "execution_count": 43,
   "id": "534304aa",
   "metadata": {},
   "outputs": [],
   "source": [
    "# buat count convert & total observation\n",
    "# variabel total observation sudah kita buat dengan nama 'observed'\n",
    "count_convert = [n_treatment_convert,n_control_convert]"
   ]
  },
  {
   "cell_type": "code",
   "execution_count": 44,
   "id": "12d6cc08",
   "metadata": {},
   "outputs": [],
   "source": [
    "# buat alternative\n",
    "alternative_option = \"larger\""
   ]
  },
  {
   "cell_type": "code",
   "execution_count": 45,
   "id": "420dd4a8",
   "metadata": {},
   "outputs": [
    {
     "name": "stdout",
     "output_type": "stream",
     "text": [
      "Z stats : -1.0731\n",
      "P-value : 0.8584\n"
     ]
    }
   ],
   "source": [
    "# panggil fungsi\n",
    "z_stat, p_value = proportions_ztest(count = count_convert,\n",
    "                                    nobs = observed,\n",
    "                                    alternative = alternative_option)\n",
    "\n",
    "print(f\"Z stats : {z_stat:.4f}\")\n",
    "print(f\"P-value : {p_value:.4f}\")"
   ]
  },
  {
   "cell_type": "code",
   "execution_count": 46,
   "id": "63df7187",
   "metadata": {},
   "outputs": [
    {
     "data": {
      "text/plain": [
       "-0.04780876494023906"
      ]
     },
     "execution_count": 46,
     "metadata": {},
     "output_type": "execute_result"
    }
   ],
   "source": [
    "# hitung selisih cr treatment dengan cr control\n",
    "cr_treatment - cr_control"
   ]
  },
  {
   "cell_type": "code",
   "execution_count": 47,
   "id": "a6f4d72d",
   "metadata": {},
   "outputs": [
    {
     "name": "stdout",
     "output_type": "stream",
     "text": [
      "relative effect = -9.68 %\n"
     ]
    }
   ],
   "source": [
    "# menghitung relative effect yang menunjukkan seberapa besar persentase peningkatan atau penurunan conversion rate treatment dibandingkan control\n",
    "relative_effect = (cr_treatment - cr_control)/cr_control * 100\n",
    "\n",
    "print(f\"relative effect = {relative_effect:.3} %\")"
   ]
  },
  {
   "cell_type": "markdown",
   "id": "e8d04e24",
   "metadata": {},
   "source": [
    "#### Menyimpulkan hasil Uji statistik"
   ]
  },
  {
   "cell_type": "code",
   "execution_count": 48,
   "id": "27325264",
   "metadata": {},
   "outputs": [
    {
     "name": "stdout",
     "output_type": "stream",
     "text": [
      "Gagal menolak H0\n"
     ]
    }
   ],
   "source": [
    "# dari p-value\n",
    "alpha = 0.05        # confidence level yang kita set\n",
    "\n",
    "# buat decision berdasarkan p_value dan alpha\n",
    "if p_value < alpha:\n",
    "    print(\"Tolak H0\")\n",
    "else:\n",
    "    print(\"Gagal menolak H0\")"
   ]
  },
  {
   "cell_type": "code",
   "execution_count": 49,
   "id": "a03098af",
   "metadata": {},
   "outputs": [
    {
     "data": {
      "text/plain": [
       "1.6448536269514722"
      ]
     },
     "execution_count": 49,
     "metadata": {},
     "output_type": "execute_result"
    }
   ],
   "source": [
    "# Z critical adalah z-value saat alpha\n",
    "z_critical = stats.norm.ppf(1 - alpha)\n",
    "\n",
    "z_critical"
   ]
  },
  {
   "cell_type": "code",
   "execution_count": 50,
   "id": "490f19b1",
   "metadata": {},
   "outputs": [
    {
     "name": "stdout",
     "output_type": "stream",
     "text": [
      "Gagal menolak H0\n"
     ]
    }
   ],
   "source": [
    "# Dari z-statistics\n",
    "# Buat decision berdasarkan z_critical dan alpha\n",
    "if z_stat > z_critical:\n",
    "    print(\"Tolak H0\")\n",
    "else:\n",
    "    print(\"Gagal menolak H0\")\n"
   ]
  },
  {
   "cell_type": "markdown",
   "id": "da5fb1ad",
   "metadata": {},
   "source": [
    "Berdasarkan hasil uji statistik didapatkan:\n",
    "\n",
    "p-value (0.8584) > alpha (0.05) → Gagal menolak H0\n",
    "z-statistics (-1.0731) < z tabel (1.644) → Gagal menolak H0\n",
    "\n",
    "Dari hal tersebut dapat disimpulkan bahwa interactive ad kurang dari atau sama dengan static ad. Dengan kata lain, interactive ad tidak meningkatkan conversion rate"
   ]
  },
  {
   "cell_type": "markdown",
   "id": "cb55cb95",
   "metadata": {},
   "source": [
    "#### Menghitung Confidence Interval"
   ]
  },
  {
   "cell_type": "code",
   "execution_count": 51,
   "id": "c1615cc5",
   "metadata": {},
   "outputs": [
    {
     "name": "stdout",
     "output_type": "stream",
     "text": [
      "(-0.13386823518539348, 0.039266242474423535)\n"
     ]
    }
   ],
   "source": [
    "# menghitung confidence interval\n",
    "confidence_interval = confint_proportions_2indep(count1 = n_treatment_convert, nobs1 = n_treatment,\n",
    "                                                 count2 = n_control_convert, nobs2 = n_control, \n",
    "                                                 compare='diff', alpha=0.05)\n",
    "print(confidence_interval)"
   ]
  },
  {
   "cell_type": "markdown",
   "id": "390776e4",
   "metadata": {},
   "source": [
    "Berdasarkan hasil perhitungan confidence interval, kita yakin 95% bahwa selisih user yang convert pada treatment variant dan control variant terletak antara -0.13 dan 0.039.\n",
    "\n",
    "Dengan kata lain penerapan interactive ads dapat menurunkan conversion rate sebesar -0.13 atau meningkatkan conversion rate sebesar 0.039"
   ]
  },
  {
   "cell_type": "markdown",
   "id": "c580b054",
   "metadata": {},
   "source": [
    "### h. Conclusion and Recommendation"
   ]
  },
  {
   "cell_type": "markdown",
   "id": "26448a11",
   "metadata": {},
   "source": [
    "1. Eksperimen ini belum memiliki cukup bukti untuk mengatakan bahwa advertisement dengan interaktif ad dapat meningkatkan conversion rate. Hal ini didapat dari hasil uji signifikansi menunjukkan hasil yang tidak signifikan baik melihat perbandingan z-statistik dengan z-critical ataupun p-value dengan alpha.\n",
    "\n",
    "2. Besaran penurunan yang diestimasi menggunakan confidence interval kita yakin 95% bahwa selisih user yang convert pada treatment variant dan control variant terletak antara -0.13  dan 0.039.\n",
    "\n",
    "3. Penggunaan advertisement baru (interactive ad) dikhawatirkan dapat meningkatkan loading time (latency) atau error per page yang dapat mengganggu conversion rate dalam mengisi kuesioner.\n",
    "\n",
    "4. Eksperimen selanjutnya dapat melakukan A/B Testing lebih mendetail seperti contohnya melakukan A/B Testing berdasarkan browser atau jenis device untuk melihat kemungkinan penerapan interactive ads pada browser atau jenis device tertentu.\n",
    "\n",
    "5. Eksperimen juga dapat dilanjutkan dengan melakukan A/B testing berdasarkan waktu atau jam-jam tertentu untuk melihat kemungkinan pengaruh waktu atau jam terhadap pengisian user. Karena mungkin tidak semua user punya waktu senggang yang sama."
   ]
  },
  {
   "cell_type": "code",
   "execution_count": null,
   "id": "883706f2",
   "metadata": {},
   "outputs": [],
   "source": []
  }
 ],
 "metadata": {
  "kernelspec": {
   "display_name": "Python 3 (ipykernel)",
   "language": "python",
   "name": "python3"
  },
  "language_info": {
   "codemirror_mode": {
    "name": "ipython",
    "version": 3
   },
   "file_extension": ".py",
   "mimetype": "text/x-python",
   "name": "python",
   "nbconvert_exporter": "python",
   "pygments_lexer": "ipython3",
   "version": "3.9.13"
  }
 },
 "nbformat": 4,
 "nbformat_minor": 5
}
